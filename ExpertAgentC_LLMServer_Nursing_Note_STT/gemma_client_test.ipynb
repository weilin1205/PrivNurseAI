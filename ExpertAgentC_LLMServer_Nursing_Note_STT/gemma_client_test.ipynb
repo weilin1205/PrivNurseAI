{
 "cells": [
  {
   "cell_type": "code",
   "execution_count": null,
   "id": "03e83f52-115c-4c01-aed4-4a661c6964f3",
   "metadata": {},
   "outputs": [
    {
     "name": "stdout",
     "output_type": "stream",
     "text": [
      "{'generated_text': '## 什麼是人工智慧 (Artificial Intelligence, AI)?\\n\\n人工智慧 (AI) 是一個廣泛的領域，旨在**讓機器能夠執行通常需要人類智慧的任務**。 簡單來說，就是讓電腦「思考」和「學習」。\\n\\n更精確的定義是：**人工智慧是研究、開發和應用能夠模擬、延伸和擴展人類智慧的理論、方法、技術及應用系統的一門科學。**\\n\\n**AI 的核心目標包括：**\\n\\n*   **學習 (Learning):** 從數據中提取知識，並根據經驗不斷改進。\\n*   **推理 (Reasoning):**  利用已知的信息，進行邏輯推理，得出結論。\\n*   **問題解決 (Problem Solving):**  找到解決問題的有效方法。\\n*   **感知 (Perception):**  理解和解釋來自感官（例如視覺、聽覺）的信息。\\n*   **自然語言處理 (', 'processing_time': 13.048485, 'model_version': 'google/gemma-3n-E4B-it'}\n"
     ]
    }
   ],
   "source": [
    "import requests\n",
    "\n",
    "API_KEY = \"XXXXXXXXXXXXXXX\"\n",
    "BASE_URL = \"http://localhost:8444\"\n",
    "\n",
    "headers = {\n",
    "    \"Authorization\": f\"Bearer {API_KEY}\",\n",
    "    \"Content-Type\": \"application/json\"\n",
    "}\n",
    "\n",
    "# 文字生成\n",
    "response = requests.post(\n",
    "    f\"{BASE_URL}/generate/text\",\n",
    "    headers=headers,\n",
    "    json={\n",
    "        \"text\": \"請問什麼是人工智慧?\",\n",
    "        \"max_tokens\": 200\n",
    "    }\n",
    ")\n",
    "\n",
    "print(response.json())"
   ]
  },
  {
   "cell_type": "code",
   "execution_count": 2,
   "id": "ec6fa168-b9a3-44b8-8f79-deb2292ab17a",
   "metadata": {},
   "outputs": [
    {
     "name": "stdout",
     "output_type": "stream",
     "text": [
      "{'generated_text': 'I believe that this nation should commit itself to achieving the goal before this decade is out of landing a man on the moon and returning him safely to the Earth.', 'processing_time': 2.296889, 'model_version': 'google/gemma-3n-E4B-it'}\n"
     ]
    }
   ],
   "source": [
    "# 準備音訊檔案\n",
    "audio_file_path = \"../finetune/audio.mp3\"  # 或 .mp3, .flac 等\n",
    "\n",
    "headers = {\"Authorization\": f\"Bearer {API_KEY}\"}\n",
    "\n",
    "with open(audio_file_path, 'rb') as audio_file:\n",
    "    files = {'audio_file': audio_file}\n",
    "    data = {'max_tokens': 1024, 'temperature': 0.7}\n",
    "    \n",
    "    response = requests.post(\n",
    "        f\"{BASE_URL}/generate/audio-text\",\n",
    "        headers=headers,\n",
    "        files=files,\n",
    "        data=data\n",
    "    )\n",
    "    print(response.json())"
   ]
  },
  {
   "cell_type": "code",
   "execution_count": null,
   "id": "1e5cff1e-8961-4de0-bdf3-a0ac996c522d",
   "metadata": {},
   "outputs": [],
   "source": []
  }
 ],
 "metadata": {
  "kernelspec": {
   "display_name": "Python 3 (ipykernel)",
   "language": "python",
   "name": "python3"
  },
  "language_info": {
   "codemirror_mode": {
    "name": "ipython",
    "version": 3
   },
   "file_extension": ".py",
   "mimetype": "text/x-python",
   "name": "python",
   "nbconvert_exporter": "python",
   "pygments_lexer": "ipython3",
   "version": "3.13.1"
  }
 },
 "nbformat": 4,
 "nbformat_minor": 5
}
